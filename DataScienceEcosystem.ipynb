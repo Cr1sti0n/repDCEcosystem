{
 "cells": [
  {
   "cell_type": "markdown",
   "metadata": {},
   "source": [
    "<center>\n",
    "    <img src=\"https://cf-courses-data.s3.us.cloud-object-storage.appdomain.cloud/IBMDeveloperSkillsNetwork-DS0105EN-SkillsNetwork/labs/Module2/images/SN_web_lightmode.png\" width=\"300\" alt=\"cognitiveclass.ai logo\">\n",
    "</center>\n"
   ]
  },
  {
   "cell_type": "markdown",
   "metadata": {},
   "source": [
    "#### Add your code below following the instructions given in the course"
   ]
  },
  {
   "cell_type": "markdown",
   "metadata": {},
   "source": [
    "# Data Science Tools and Ecosystem"
   ]
  },
  {
   "cell_type": "markdown",
   "metadata": {},
   "source": [
    "In this notebook, the tools and ecosystems of data science are summarized."
   ]
  },
  {
   "cell_type": "markdown",
   "metadata": {},
   "source": [
    "**Objectives:**  \n",
    "* Review some popular languages used in data science.\n",
    "* Learn about some commonly used libraries for data scientists.\n",
    "* Briefly review some syntactic examples for performing arithmetic operations.\n",
    "* Execute a code block for the conversion of minutes to hours."
   ]
  },
  {
   "cell_type": "markdown",
   "metadata": {},
   "source": [
    "Some of the popular languages used in data science are:\n",
    "1. Python\n",
    "2. R\n",
    "3. SQL\n",
    "4. Scala\n",
    "5. Java\n",
    "6. C++\n",
    "7. Julia"
   ]
  },
  {
   "cell_type": "markdown",
   "metadata": {},
   "source": [
    "Some of the libraries commonly used by data scientists are:\n",
    "1. **Pandas**: For data structures and tools for cleaning, manipulating, and analyzing data.\n",
    "2. **NumPy**: Mathematical functions for arrays and matrices.\n",
    "3. **Matplotlib**: Data visualization through graphs and charts.\n",
    "4. **Seaborn**: High-level visualization (heatmaps, time series, and violin plots).\n",
    "5. **Scikit-learn**: For statistical modeling.  \n",
    "6. **Keras**: Building standard deep learning models.\n",
    "7. **TensorFlow**: Building large-scale deep learning models.\n",
    "8. **PyTorch**: For testing deep learning models.\n",
    "9. **Apache Spark**: For data processing using computing clusters.\n",
    "10. **Vegas**: For statistical data visualization.\n",
    "11. **BigDL**: For deep learning in Scala."
   ]
  },
  {
   "cell_type": "markdown",
   "metadata": {},
   "source": [
    "| Data Science Tools               |\n",
    "|----------------------------------|\n",
    "| Jupyter Notebook                 |\n",
    "| RStudio                          |\n",
    "| Apache Spark                     |"
   ]
  },
  {
   "cell_type": "markdown",
   "metadata": {},
   "source": [
    "### Below are some examples of evaluating arithmetic expressions in Python\n",
    "- **Addition with multiplication:** 3 + 5 * 2 \n",
    "- **Expression with parentheses:** (3 + 5) * 2\n",
    "- **Expression with exponentiation:** ((3 + 5) * 2) ** 0"
   ]
  },
  {
   "cell_type": "code",
   "execution_count": 36,
   "metadata": {},
   "outputs": [
    {
     "data": {
      "text/plain": [
       "17"
      ]
     },
     "execution_count": 36,
     "metadata": {},
     "output_type": "execute_result"
    }
   ],
   "source": [
    "# This code is a simple arithmetic expression that multiplies and then adds integers\n",
    "(3*4)+5"
   ]
  },
  {
   "cell_type": "code",
   "execution_count": 35,
   "metadata": {},
   "outputs": [
    {
     "name": "stdout",
     "output_type": "stream",
     "text": [
      "3.3333333333333335\n"
     ]
    }
   ],
   "source": [
    "# This code converts 200 minutes to hours by dividing by 60\n",
    "minutes = 200\n",
    "hour = 60\n",
    "print(minutes/hour)"
   ]
  },
  {
   "cell_type": "markdown",
   "metadata": {},
   "source": [
    "## Autor\n",
    "Cristián Briones C."
   ]
  }
 ],
 "metadata": {
  "kernelspec": {
   "display_name": "Python 3 (ipykernel)",
   "language": "python",
   "name": "python3"
  },
  "language_info": {
   "codemirror_mode": {
    "name": "ipython",
    "version": 3
   },
   "file_extension": ".py",
   "mimetype": "text/x-python",
   "name": "python",
   "nbconvert_exporter": "python",
   "pygments_lexer": "ipython3",
   "version": "3.12.8"
  }
 },
 "nbformat": 4,
 "nbformat_minor": 4
}
