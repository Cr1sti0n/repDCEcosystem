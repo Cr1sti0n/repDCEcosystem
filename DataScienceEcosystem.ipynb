{
 "cells": [
  {
   "cell_type": "markdown",
   "metadata": {},
   "source": [
    "<center>\n",
    "    <img src=\"https://cf-courses-data.s3.us.cloud-object-storage.appdomain.cloud/IBMDeveloperSkillsNetwork-DS0105EN-SkillsNetwork/labs/Module2/images/SN_web_lightmode.png\" width=\"300\" alt=\"cognitiveclass.ai logo\">\n",
    "</center>\n"
   ]
  },
  {
   "cell_type": "markdown",
   "metadata": {},
   "source": [
    "#### Add your code below following the instructions given in the course\n"
   ]
  },
  {
   "cell_type": "markdown",
   "metadata": {},
   "source": [
    "# Data Science Tools and Ecosystem"
   ]
  },
  {
   "cell_type": "markdown",
   "metadata": {},
   "source": [
    "En este cuaderno, se resumen las herramientas y ecosistemas de ciencia de datos."
   ]
  },
  {
   "cell_type": "markdown",
   "metadata": {},
   "source": [
    "**Objetivos:**\n",
    "* Repasar algunos lenguajes de uso popular en la ciencia de datos.\n",
    "* Conocer algunas bibliotecas de uso común para los científicos de datos.\n",
    "* Revisar sucintamente unos ejemplos sintácticos para la realización de operaciones aritméticas.\n",
    "* Ejecutar un bloque de códijo para la conversión de minutos a horas."
   ]
  },
  {
   "cell_type": "markdown",
   "metadata": {},
   "source": [
    "Algunos de los lenguajes de uso popular en la ciencia de datos son:\n",
    "\n",
    "1. Python\n",
    "2. R\n",
    "3. SQL\n",
    "4. Scala\n",
    "5. Java\n",
    "6. C++\n",
    "7. Julia"
   ]
  },
  {
   "cell_type": "markdown",
   "metadata": {},
   "source": [
    "Algunas de las bibliotecas comunmente utilizadas por los científicos de datos son:\n",
    "\n",
    "1. Pandas: para estructuras de datos y herramientas para limpieza, manipulación y análisis de datos.\n",
    "2. Numphy: funciones matemáticas para arreglos y matrices.\n",
    "3. Matplotlib: visualización de datos mediante gráficos y diagramas.\n",
    "4. Seaborn: visualización de alto nivel (mapas de calor, series temporales y gráficos de violín)\n",
    "5. Scikit-learn: para modelado estadístico.\n",
    "6. Keras: construcción de modelos estandar de deep-learning.\n",
    "7. TensorFlow: construcción de modelos a gran escala de modelos de deep-learning.\n",
    "8. PyTorch: para testeo con modelos de aprendizaje profundo.\n",
    "9. Apache Spark: Para procesamiento de datos mediante clústeres de cómputo. \n",
    "10. Vegas: para visualización de datos estadísticos.\n",
    "11. BigDl: para aprendizaje profundo en Scala."
   ]
  },
  {
   "cell_type": "markdown",
   "metadata": {},
   "source": [
    "| Herramientas de ciencia de datos |\n",
    "|----------------------------------|\n",
    "| Jupyter Notebook                 |\n",
    "| RStudio                          |\n",
    "| Apache Spark                     |"
   ]
  },
  {
   "cell_type": "markdown",
   "metadata": {},
   "source": [
    "### A continuación, se presentan algunos ejemplos de evaluación de expresiones aritméticas en Python\n",
    "\n",
    "- **Suma con multiplicación:** 3 + 5 * 2\n",
    "- **Expresión con paréntesis:** (3 + 5) * 2\n",
    "- **Expresión con potenciación:** (( 3 + 5 ) * 2)**0"
   ]
  },
  {
   "cell_type": "code",
   "execution_count": 5,
   "metadata": {},
   "outputs": [
    {
     "data": {
      "text/plain": [
       "17"
      ]
     },
     "execution_count": 5,
     "metadata": {},
     "output_type": "execute_result"
    }
   ],
   "source": [
    "# Esta es una expresión aritmética sencilla que multiplica y luego suma enteros\n",
    "(3*4)+5"
   ]
  },
  {
   "cell_type": "code",
   "execution_count": 6,
   "metadata": {},
   "outputs": [
    {
     "name": "stdout",
     "output_type": "stream",
     "text": [
      "3.3333333333333335\n"
     ]
    }
   ],
   "source": [
    "# Este código convierte 200 minutos a horas dividiendo por 60\n",
    "minutos = 200\n",
    "hora = 60\n",
    "print (minutos/hora)"
   ]
  },
  {
   "cell_type": "markdown",
   "metadata": {},
   "source": [
    "## Autor  \n",
    "Cristián Briones C."
   ]
  }
 ],
 "metadata": {
  "kernelspec": {
   "display_name": "Python 3 (ipykernel)",
   "language": "python",
   "name": "python3"
  },
  "language_info": {
   "codemirror_mode": {
    "name": "ipython",
    "version": 3
   },
   "file_extension": ".py",
   "mimetype": "text/x-python",
   "name": "python",
   "nbconvert_exporter": "python",
   "pygments_lexer": "ipython3",
   "version": "3.12.8"
  }
 },
 "nbformat": 4,
 "nbformat_minor": 4
}
